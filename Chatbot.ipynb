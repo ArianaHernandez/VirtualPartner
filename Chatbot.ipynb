{
 "cells": [
  {
   "cell_type": "code",
   "execution_count": 2,
   "metadata": {},
   "outputs": [],
   "source": [
    "import numpy as np\n",
    "import nltk\n",
    "from nltk.stem.porter import PorterStemmer\n",
    "\n",
    "stemmer = PorterStemmer()\n",
    "import torch\n",
    "import torch.nn as nn\n",
    "import random\n",
    "import json\n",
    "from torch.utils.data import Dataset, DataLoader\n",
    "from tkinter import *"
   ]
  },
  {
   "cell_type": "code",
   "execution_count": 3,
   "metadata": {
    "scrolled": false
   },
   "outputs": [],
   "source": [
    "with open(\"707.json\", \"r\") as f:\n",
    "    intents = json.load(f)"
   ]
  },
  {
   "cell_type": "code",
   "execution_count": 4,
   "metadata": {},
   "outputs": [],
   "source": [
    "def tokenize(sentence):\n",
    "    return nltk.word_tokenize(sentence)\n",
    "\n",
    "def stem(word):\n",
    "    return stemmer.stem(word.lower())"
   ]
  },
  {
   "cell_type": "code",
   "execution_count": 5,
   "metadata": {},
   "outputs": [],
   "source": [
    "def bag_of_words(tokenized_sentence, words):\n",
    "    # stem each word\n",
    "    sentence_words = [stem(word) for word in tokenized_sentence]\n",
    "    # initialize bag with 0 for each word\n",
    "    bag = np.zeros(len(words), dtype=np.float32)\n",
    "    for idx, w in enumerate(words):\n",
    "        if w in sentence_words:\n",
    "            bag[idx] = 1\n",
    "\n",
    "    return bag"
   ]
  },
  {
   "cell_type": "code",
   "execution_count": 6,
   "metadata": {
    "scrolled": false
   },
   "outputs": [
    {
     "name": "stdout",
     "output_type": "stream",
     "text": [
      "[(['Hi'], 'greeting'), (['Hey'], 'greeting'), (['How', 'are', 'you'], 'greeting'), (['Is', 'anyone', 'there', '?'], 'greeting'), (['Hello'], 'greeting'), (['Good', 'day'], 'greeting'), (['What', \"'s\", 'up'], 'greeting'), (['Yo', '!'], 'greeting'), (['Howdy'], 'greeting'), (['Nice', 'to', 'meet', 'you', '.'], 'greeting'), (['Goodbye'], 'Goodbye'), (['Bye', '!'], 'Goodbye'), (['Adios'], 'Goodbye'), (['See', 'ya', 'later', '!'], 'Goodbye'), (['TTYL'], 'Goodbye'), (['Cya'], 'Goodbye'), (['Bye'], 'Goodbye'), (['Good', 'bye'], 'Goodbye'), (['Bye'], 'Goodbye'), (['See', 'you', 'later', '.'], 'Goodbye'), (['Have', 'a', 'great', 'day', '.'], 'Goodbye'), (['See', 'you', 'next', 'time', '.'], 'Goodbye'), (['It', 'was', 'my', 'pleassure', '.'], 'Goodbye'), (['Take', 'care', '.'], 'Goodbye'), (['See', 'ya', '!'], 'Goodbye'), (['Catch', 'you', 'later', '.'], 'Goodbye'), (['Ciao', '.'], 'Goodbye'), (['I', 'should', 'go'], 'Goodbye'), (['What', 'are', 'you', 'doing', '?'], 'activity'), (['Wyd'], 'activity'), (['What', \"'s\", 'up', '?'], 'activity'), (['Any', 'plans', 'for', 'today', '?'], 'activity'), (['Whatcha', 'doin', '?'], 'activity'), (['Whats', 'goin', 'on', '?'], 'activity'), (['What', \"'s\", 'going', 'on', '?'], 'activity'), (['Are', 'you', 'doing', 'something', '?'], 'activity'), (['Are', 'you', 'up', 'to', 'something', '?'], 'activity'), (['Are', 'you', 'busy', '?'], 'activity'), (['I', \"'m\", 'doing', 'homework'], 'activity'), (['What', 'is', 'your', 'name', '?'], 'name'), (['What', 'should', 'I', 'call', 'you', '?'], 'name'), (['Who', 'are', 'you', '?'], 'name'), (['What', \"'s\", 'your', 'name', '?'], 'name'), (['Can', 'I', 'have', 'your', 'name', '?'], 'name'), (['What', 'would', 'your', 'name', 'be', '?'], 'name'), (['What', 'can', 'I', 'call', 'you', '?'], 'name'), (['My', 'name', 'is', '.', 'What', \"'s\", 'yours', '?'], 'name'), (['How', 'can', 'I', 'address', 'you', '?'], 'name'), (['What', 'are', 'you', 'named', '?'], 'name'), (['What', 'do', 'you', 'call', 'yourself', '?'], 'name'), (['I', 'bet', 'you', 'have', 'a', 'great', 'name', ',', 'what', 'is', 'it', '?'], 'name'), (['What', 'is', 'your', 'real', 'name', '?'], 'name'), (['What', 'do', 'you', 'go', 'by', '?'], 'name'), (['Saeyoung', 'is', 'a', 'beautiful', 'name'], 'Saeyoung'), (['I', 'love', 'the', 'name', 'Saeyoung'], 'Saeyoung'), (['Saeyoung'], 'Saeyoung'), (['Why', 'do', \"n't\", 'you', 'go', 'by', 'the', 'name', 'Sayoung', '?'], 'Saeyoung'), (['Why', 'do', 'you', 'by', '707', 'instead', 'of', 'Saeyoung'], 'Saeyoung'), (['Do', 'you', 'have', 'a', 'problem', 'with', 'your', 'birth', 'name', '?'], 'Saeyoung'), (['Why', 'do', 'you', 'prefer', 'your', 'nickname', 'over', 'your', 'birth', 'name', '?'], 'Saeyoung'), (['What', 'are', 'you', 'eating', '?'], 'food'), (['Are', 'you', 'gon', 'na', 'eat', '?'], 'food'), (['What', \"'s\", 'your', 'favorite', 'food', '?'], 'food'), (['Are', 'you', 'hungry', '?'], 'food'), (['What', \"'s\", 'your', 'favorite', 'snack', '?'], 'food'), (['If', 'you', 'could', 'only', 'eat', 'one', 'food', 'for', 'the', 'rest', 'of', 'your', 'life', ',', 'what', 'would', 'you', 'choose', '?'], 'food'), (['What', 'is', 'your', 'favorite', 'meal', 'to', 'cook', 'and', 'why', '?'], 'food'), (['What', 'do', 'you', 'think', 'I', 'should', 'eat', '?'], 'food'), (['Do', 'you', 'usually', 'drink', 'coffee', 'in', 'the', 'morning', '?'], 'food'), (['What', \"'s\", 'your', 'go-to', 'snack', '?'], 'food'), (['What', 'are', 'your', 'thoughts', 'on', 'religious', '?'], 'religion'), (['Are', 'you', 'religious', '?'], 'religion'), (['Do', 'you', 'believe', 'in', 'God', '?'], 'religion'), (['Do', 'you', 'have', 'any', 'religious', 'beliefs', '?'], 'religion'), (['Do', 'you', 'have', 'any', 'spiritual', 'beliefs', '?'], 'religion'), (['What', 'are', 'your', 'thoughts', 'on', 'organized', 'religion', '?'], 'religion'), (['Do', 'you', 'consider', 'yourself', 'a', 'religious', 'person', '?'], 'religion'), (['I', 'do', \"n't\", 'believe', 'in', 'God'], 'religion'), (['Christianity', 'is', '...'], 'religion'), (['I', 'am', 'an', 'atheist'], 'religion'), (['I', 'am', 'not', 'religious'], 'religion'), (['I', 'am', 'spiritial', ',', 'not', 'religious'], 'religion'), (['I', 'do', \"n't\", 'believe', 'in', 'secular', 'religion'], 'religion'), (['I', 'love', 'you'], 'romantic'), (['Tell', 'me', 'something', 'romantic'], 'romantic'), (['Say', 'something', 'sweet'], 'romantic'), (['I', 'want', 'to', 'kiss', 'you'], 'romantic'), (['I', 'love', 'you', 'so', 'much', '!'], 'romantic'), (['How', 'much', 'do', 'you', 'love', 'me', '?'], 'romantic'), (['You', 'make', 'my', 'heart', 'skip', 'a', 'beat', '!'], 'romantic'), (['Tell', 'me', 'something', 'sweet'], 'romantic'), (['Do', 'you', 'love', 'me', '?'], 'romantic'), (['Let', \"'s\", 'kiss', '!'], 'romantic'), (['You', 'are', 'my', 'everything'], 'romantic'), (['Love'], 'romantic'), (['Why', 'did', 'the', 'chicken', 'cross', 'the', 'road', '?', 'To', 'get', 'to', 'the', 'other', 'side', '.'], 'joke'), (['What', 'do', 'you', 'call', 'a', 'fish', 'with', 'no', 'eyes', '?', 'a', 'fsh'], 'joke'), (['What', 'runs', 'around', 'a', 'yard', 'without', 'actually', 'moving', '?', 'A', 'fence', '.'], 'joke'), (['Why', 'could', \"n't\", 'the', 'bike', 'stand', 'up', '?', 'It', 'was', 'too', 'tired', '.'], 'joke'), (['Why', 'was', 'the', 'sand', 'wet', '?', 'Because', 'the', 'sea', 'weed', '.'], 'joke'), (['What', 'has', 'a', 'face', 'and', 'two', 'hands', ',', 'but', 'no', 'arms', 'or', 'legs', '?', 'A', 'clock', '.'], 'joke'), (['What', 'lies', 'at', 'the', 'bottom', 'of', 'the', 'sea', 'shaking', '?', 'A', 'nervous', 'wreck', '.'], 'joke'), (['Why', 'did', 'the', 'drum', 'take', 'a', 'nap', '?', 'It', 'was', 'beat', '.'], 'joke'), (['What', 'comes', 'down', ',', 'but', 'never', 'comes', 'up', '?', 'Rain', '.'], 'joke'), (['What', 'do', 'lawyers', 'wear', 'to', 'court', '?', 'Lawsuits', '.'], 'joke'), (['lol'], 'joke'), (['How', 'do', 'you', 'feel', 'about', 'cats', '?'], 'animals'), (['How', 'do', 'you', 'feel', 'about', 'animals', '?'], 'animals'), (['Do', 'you', 'like', 'pets', '?'], 'animals'), (['I', 'have', 'a', 'pet'], 'animals'), (['What', \"'s\", 'your', 'favorite', 'animal', '?'], 'animals'), (['Do', 'you', 'have', 'a', 'dream', 'pet', '?'], 'animals'), (['Do', 'you', 'have', 'cat', '?'], 'animals'), (['Do', 'you', 'want', 'a', 'cat', '?'], 'animals'), (['I', 'like', 'cats'], 'animals'), (['I', 'like', 'animals'], 'animals'), (['I', 'have', 'a', 'dog'], 'animals'), (['I', 'have', 'a', 'cat'], 'animals'), (['animals'], 'animals'), (['I', 'hate', 'you'], 'mean'), (['I', 'do', \"n't\", 'want', 'to', 'date', 'you', 'anymore'], 'mean'), (['We', \"'re\", 'not', 'friends'], 'mean'), (['I', 'do', \"n't\", 'love', 'you'], 'mean'), (['You', \"'re\", 'not', 'attractive'], 'mean'), (['You', \"'re\", 'not', 'funny', '.'], 'mean'), (['You', \"'re\", 'so', 'ugly'], 'mean'), (['I', 'hate', 'your', 'cars'], 'mean'), (['You', 'are', 'a', 'terrible', 'hacker'], 'mean'), (['You', \"'re\", 'lazy'], 'mean'), (['No', 'one', 'likes', 'you'], 'mean'), (['You', 'have', 'no', 'friends'], 'mean'), (['No'], 'mean'), (['I', \"'m\", 'worried', 'about', 'you'], 'worry'), (['You', \"'re\", 'making', 'me', 'nervous'], 'worry'), (['Are', 'you', 'feeling', 'okay', '?'], 'worry'), (['How', 'are', 'things', '?'], 'worry'), (['Is', 'anything', 'on', 'your', 'mind', '?'], 'worry'), (['I', 'hope', 'things', 'are', 'okay', 'with', 'you', '.'], 'worry'), (['I', \"'m\", 'afraid', 'something', 'is', 'going', 'on', 'with', 'you'], 'worry'), (['I', \"'m\", 'afraid', 'there', \"'s\", 'something', 'you', \"'re\", 'not', 'telling', 'me'], 'worry'), (['I', \"'m\", 'concerned'], 'worry'), (['You', \"'re\", 'making', 'me', 'worry'], 'worry'), (['Worry'], 'worry'), (['anxious'], 'worry'), (['nervous'], 'worry'), (['I', \"'m\", 'sad'], 'sad'), (['I', \"'m\", 'depressed'], 'sad'), (['I', \"'ve\", 'had', 'a', 'bad', 'day'], 'sad'), (['Today', 'is', 'going', 'terrible', '!'], 'sad'), (['You', 'hurt', 'my', 'feelings'], 'sad'), (['Today', \"'s\", 'been', 'a', 'long', 'day'], 'sad'), (['This', 'is', 'the', 'worst'], 'sad'), (['I', 'feel', 'so', 'bad'], 'sad'), (['I', \"'m\", 'so', 'unhappy'], 'sad'), (['This', 'is', 'so', 'sad'], 'sad'), ([':', '('], 'sad'), (['Sad'], 'sad'), (['Unhappy'], 'sad'), (['lonely'], 'sad'), (['Depressed'], 'sad'), ([':', ')'], 'emotes'), ([':', 'D'], 'emotes'), ([':', 'P'], 'emotes'), ([':3'], 'emotes'), (['^-^'], 'emotes'), (['<', '3'], 'emotes'), (['c', ':'], 'emotes'), (['owo'], 'emotes'), (['uwu'], 'emotes'), (['OWO'], 'emotes'), (['Good', 'night'], 'night'), (['It', \"'s\", 'late'], 'night'), (['I', \"'m\", 'tired'], 'night'), (['I', \"'m\", 'sleepy'], 'night'), (['Are', 'you', 'tired', '?'], 'night'), (['Nighty', 'Night', '.'], 'night'), (['Sweet', 'dreams', '!'], 'night'), (['Sleep', 'well', '.'], 'night'), (['Have', 'a', 'good', 'sleep', '.'], 'night'), (['Dream', 'about', 'me', '!'], 'night'), (['Go', 'to', 'bed', ',', 'you', 'sleepy', 'head', '!'], 'night'), (['Sleep', 'tight', '!'], 'night'), (['Good', 'morning'], 'morning'), (['It', \"'s\", 'morning', '!'], 'morning'), (['Top', 'of', 'the', 'morning', 'to', 'ya', 'laddies', '!'], 'morning'), (['Did', 'you', 'sleep', 'well', '?'], 'morning'), (['Rise', 'and', 'shine'], 'morning'), (['How', 'are', 'you', 'this', 'fine', 'morning', '?'], 'morning'), (['Is', \"n't\", 'it', 'a', 'beautiful', 'day', 'today', '?'], 'morning'), (['Good', 'day', 'to', 'you', '.'], 'morning'), (['Good', 'morning', ',', 'sleepy', 'head'], 'morning'), (['Morning', '!'], 'morning'), (['Do', 'you', 'like', 'hacking', '?'], 'affirmative'), (['Do', 'you', 'like', 'Honey', 'Buddha', 'chips', '?'], 'affirmative'), (['Do', 'you', 'have', 'any', 'family', '?'], 'affirmative'), (['Do', 'you', 'have', 'any', 'friends', '?'], 'affirmative'), (['Do', 'you', 'think', 'I', \"'m\", 'pretty', '?'], 'affirmative'), (['Are', 'you', 'rich', '?'], 'affirmative'), (['You', 'must', 'have', 'the', 'coolest', 'cars'], 'affirmative'), (['Do', 'you', 'think', 'you', \"'re\", 'funny', '?'], 'affirmative'), (['Do', 'you', 'think', 'you', \"'re\", 'the', 'best', 'hacker', '?'], 'affirmative'), (['Are', 'you', 'always', 'busy', '?'], 'affirmative'), (['Do', 'you', 'like', 'drinking', 'alcohol', '?'], 'negatives'), (['Do', 'you', 'like', 'cofffee', '?'], 'negatives'), (['Do', 'you', 'like', 'bugs', '?'], 'negatives'), (['Do', 'you', 'like', 'other', 'hackers', '?'], 'negatives'), (['Are', 'you', 'an', 'outdoors', 'person', '?'], 'negatives'), (['Are', 'you', 'a', 'morning', 'person', '?'], 'negatives'), (['Do', 'you', 'like', 'Elon', 'Musk', '?'], 'negatives'), (['I', 'think', 'you', 'hate', 'cats'], 'negatives'), (['You', 'are', 'a', 'narcissist'], 'negatives'), (['Do', 'you', 'think', 'you', \"'re\", 'weird', '?'], 'negatives'), (['Do', 'you', 'like', 'gaming', '?'], 'unsure'), (['Do', 'you', 'like', 'sleeping', '?'], 'unsure'), (['Do', 'you', 'like', 'discrete', 'math', '?'], 'unsure'), (['Will', 'you', 'wear', 'wigs', '?'], 'unsure'), (['Do', 'you', 'want', 'to', 'play', 'a', 'game', '?'], 'unsure'), (['Do', 'you', 'want', 'to', 'come', 'over', '?'], 'unsure'), (['Will', 'you', 'spend', 'the', 'night', '?'], 'unsure'), (['Are', 'you', 'gon', 'na', 'buy', 'a', 'new', 'car', '?'], 'unsure'), (['Do', 'you', 'want', 'to', 'get', 'a', 'cat', '?'], 'unsure'), (['Is', 'this', 'your', 'first', 'time', 'chatting', 'with', 'me', '?'], 'unsure'), (['You', 'are', 'so', 'handsome', '!'], 'compliments'), (['I', 'love', 'your', 'glasses', '!'], 'compliments'), (['You', \"'re\", 'so', 'funny', '!'], 'compliments'), (['You', 'are', 'so', 'smart', '!'], 'compliments'), (['Your', 'smile', 'is', 'my', 'favorite', 'thing'], 'compliments'), (['Just', 'looking', 'at', 'you', 'makes', 'me', 'smile'], 'compliments'), (['Your', 'hair', 'is', 'so', 'hot'], 'compliments'), (['I', 'love', 'your', 'sense', 'of', 'style'], 'compliments'), (['You', 'have', 'a', 'great', 'sense', 'of', 'style'], 'compliments'), (['You', \"'re\", 'really', 'funny', '!'], 'compliments'), (['You', 'are', 'so', 'kind'], 'compliments'), (['You', 'are', 'so', 'generous'], 'compliments'), (['Thank', 'you'], 'gratitude'), (['Thanks'], 'gratitude'), (['I', 'appreciate', 'you'], 'gratitude'), (['I', 'am', 'grateful', 'to', 'you', '.'], 'gratitude'), (['I', \"'m\", 'obliged', '.'], 'gratitude'), (['I', \"'m\", 'thankful', '.'], 'gratitude'), (['I', 'appreciate', 'it', '.'], 'gratitude'), (['I', \"'m\", 'really', 'appreciative', 'of', 'what', 'you', 'did', '.'], 'gratitude'), (['I', 'ca', \"n't\", 'thank', 'you', 'enough', '.'], 'gratitude'), (['Gracias'], 'gratitude'), (['I', 'got', 'a', 'new', 'job', '!'], 'excitement'), (['I', 'passed', 'my', 'midterm'], 'excitement'), (['I', 'got', 'an', 'A', 'in', 'Artificial', 'Intelligence', '!'], 'excitement'), (['I', \"'m\", 'graduating', '!'], 'excitement'), (['This', 'is', 'exciting', '!'], 'excitement'), (['I', 'have', 'good', 'news', '!'], 'excitement'), (['I', 'have', 'exciting', 'news', '!'], 'excitement'), (['Yay', '!'], 'excitement'), (['Whee', '!'], 'excitement'), (['I', 'got', 'a', 'promotion', '!'], 'excitement'), (['How', 'is', 'your', 'job', '?'], 'work'), (['What', 'do', 'you', 'do', 'for', 'work', '?'], 'work'), (['Do', 'you', 'like', 'your', 'job', '?'], 'work'), (['What', 'is', 'your', 'favorite', 'part', 'of', 'your', 'job', '?'], 'work'), (['What', \"'s\", 'the', 'best', 'thing', 'about', 'your', 'job', '?'], 'work'), (['Do', 'you', 'like', 'to', 'work', '?'], 'work'), (['Tell', 'me', 'more', 'about', 'your', 'job'], 'work'), (['Tell', 'me', 'about', 'where', 'you', 'work'], 'work'), (['What', 'do', 'you', 'do', 'for', 'money', '?'], 'work'), (['How', 'do', 'you', 'make', 'money', '?'], 'work'), (['How', 'do', 'you', 'afford', 'fancy', 'cars', '?'], 'work'), (['You', 'must', 'have', 'a', 'good', 'job'], 'work'), (['I', \"'m\", 'a', 'CS', 'Major'], 'hacker'), (['I', \"'m\", 'a', 'hacker'], 'hacker'), (['I', \"'m\", 'a', 'programmer'], 'hacker'), (['I', 'know', 'how', 'to', 'code'], 'hacker'), (['How', 'would', 'you', 'feel', 'if', 'I', 'was', 'a', 'hacker', '?'], 'hacker'), (['I', \"'m\", 'gon', 'na', 'hack', 'you'], 'hacker'), (['I', \"'m\", 'hacking', 'into', 'your', 'accounts'], 'hacker'), (['I', \"'m\", 'stealing', 'all', 'your', 'data'], 'hacker'), (['I', 'have', 'your', 'I.P'], 'hacker'), (['I', 'know', 'where', 'you', 'live'], 'hacker'), (['Discrete', 'Mathematics', 'is', 'the', 'worst', '.'], 'agreement'), (['I', 'hate', 'coffee'], 'agreement'), (['I', 'hate', 'actors'], 'agreement'), (['I', 'do', \"n't\", 'like', 'when', 'people', 'lie'], 'agreement'), (['Cats', 'are', 'the', 'best', '!'], 'agreement'), (['Work', 'sucks'], 'agreement'), (['Cars', 'are', 'awesome', '!'], 'agreement'), (['I', 'love', 'expensive', 'cool', 'cars'], 'agreement'), (['You', 'should', 'spend', 'money', 'on', 'a', 'cool', 'car'], 'agreement'), (['You', 'should', 'only', 'save', 'money', 'for', 'cars'], 'agreement'), (['Can', 'you', 'help', 'me', 'with', 'something', '?'], 'favor'), (['I', 'do', \"n't\", 'understand', 'this', 'code'], 'favor'), (['Help', 'me', '!'], 'favor'), (['I', 'need', 'assistance'], 'favor'), (['I', \"'m\", 'lost'], 'favor'), (['I', 'need', 'help', '.'], 'favor'), (['I', \"'m\", 'confused'], 'favor'), (['Do', 'you', 'understand', 'this', '?'], 'favor'), (['Can', 'you', 'do', 'me', 'a', 'favor', '?'], 'favor'), (['I', \"'m\", 'so', 'happy', '!'], 'positive'), (['The', 'sun', 'is', 'shining', '!'], 'positive'), (['I', \"'m\", 'having', 'a', 'wonderful', 'day', '!'], 'positive'), (['I', \"'m\", 'great'], 'positive'), (['I', 'feel', 'better'], 'positive'), (['Today', 'is', 'going', 'to', 'be', 'a', 'good', 'day'], 'positive'), (['I', 'have', 'high', 'hopes', 'for', 'today'], 'positive'), (['I', 'will', 'succeed', 'today'], 'positive'), (['I', 'am', 'more', 'at', 'ease', 'today'], 'positive'), (['All', 'is', 'well'], 'positive'), (['The', 'future', 'is', 'bright'], 'positive'), (['I', 'want', 'to', 'learn', 'more', 'about', 'you', '!'], 'learn'), (['I', 'want', 'to', 'get', 'to', 'know', 'you'], 'learn'), (['Tell', 'me', 'about', 'yourself'], 'learn'), (['I', \"'m\", 'curious', 'about', 'you', '!'], 'learn'), (['Let', \"'s\", 'talk', 'about', 'you'], 'learn'), (['How', 'would', 'you', 'describe', 'yourself', '?'], 'learn'), (['Do', 'you', 'consider', 'yourself', 'a', 'good', 'person', '?'], 'learn'), (['How', 'would', 'you', 'describe', 'your', 'personality', '?'], 'learn'), (['What', \"'s\", 'your', 'history', 'like', '?'], 'learn'), (['I', 'do', \"n't\", 'know', 'much', 'about', 'you'], 'learn'), (['Tell', 'me', 'more'], 'learn'), (['what', 'is', 'the', 'name', 'of', 'your', 'developers'], 'creator'), (['what', 'is', 'the', 'name', 'of', 'your', 'creators'], 'creator'), (['what', 'is', 'the', 'name', 'of', 'the', 'developers'], 'creator'), (['what', 'is', 'the', 'name', 'of', 'the', 'creators'], 'creator'), (['who', 'created', 'you'], 'creator'), (['your', 'developers'], 'creator'), (['your', 'creators'], 'creator'), (['who', 'are', 'your', 'developers'], 'creator'), (['developers'], 'creator'), (['you', 'are', 'made', 'by'], 'creator'), (['you', 'are', 'made', 'by', 'whom'], 'creator'), (['who', 'created', 'you'], 'creator'), (['who', 'create', 'you'], 'creator'), (['creators'], 'creator'), (['who', 'made', 'you'], 'creator'), (['who', 'designed', 'you'], 'creator')]\n"
     ]
    }
   ],
   "source": [
    "all_words = []\n",
    "tags = []\n",
    "xy = []\n",
    "# loop through each sentence in our intents patterns\n",
    "for intent in intents[\"intents\"]:\n",
    "    tag = intent[\"tag\"]\n",
    "    # add to tag list\n",
    "    tags.append(tag)\n",
    "    for pattern in intent[\"patterns\"]:\n",
    "        # tokenize each word in the sentence\n",
    "        w = tokenize(pattern)\n",
    "        # add to our words list\n",
    "        all_words.extend(w)\n",
    "        # add to xy pair\n",
    "        xy.append((w, tag))\n",
    "print(xy)"
   ]
  },
  {
   "cell_type": "code",
   "execution_count": 7,
   "metadata": {},
   "outputs": [],
   "source": [
    "# stem and lower each word\n",
    "ignore_words = [\"?\", \".\", \"!\"]\n",
    "all_words = [stem(w) for w in all_words if w not in ignore_words]\n",
    "# remove duplicates and sort\n",
    "all_words = sorted(set(all_words))\n",
    "tags = sorted(set(tags))"
   ]
  },
  {
   "cell_type": "code",
   "execution_count": 8,
   "metadata": {},
   "outputs": [
    {
     "name": "stdout",
     "output_type": "stream",
     "text": [
      "333 patterns\n",
      "29 tags: ['Goodbye', 'Saeyoung', 'activity', 'affirmative', 'agreement', 'animals', 'compliments', 'creator', 'emotes', 'excitement', 'favor', 'food', 'gratitude', 'greeting', 'hacker', 'joke', 'learn', 'mean', 'morning', 'name', 'negatives', 'night', 'positive', 'religion', 'romantic', 'sad', 'unsure', 'work', 'worry']\n",
      "381 unique stemmed words: [\"'m\", \"'re\", \"'s\", \"'ve\", '(', ')', ',', '...', '3', '707', ':', ':3', '<', '^-^', 'a', 'about', 'account', 'actor', 'actual', 'address', 'adio', 'afford', 'afraid', 'alcohol', 'all', 'alway', 'am', 'an', 'and', 'ani', 'anim', 'anxiou', 'anymor', 'anyon', 'anyth', 'appreci', 'are', 'arm', 'around', 'artifici', 'assist', 'at', 'atheist', 'attract', 'awesom', 'bad', 'be', 'beat', 'beauti', 'becaus', 'bed', 'been', 'belief', 'believ', 'best', 'bet', 'better', 'bike', 'birth', 'bottom', 'bright', 'buddha', 'bug', 'busi', 'but', 'buy', 'by', 'bye', 'c', 'ca', 'call', 'can', 'car', 'care', 'cat', 'catch', 'chat', 'chicken', 'chip', 'choos', 'christian', 'ciao', 'clock', 'code', 'coffe', 'cofffe', 'come', 'concern', 'confus', 'consid', 'cook', 'cool', 'coolest', 'could', 'court', 'creat', 'creator', 'cross', 'cs', 'curiou', 'cya', 'd', 'data', 'date', 'day', 'depress', 'describ', 'design', 'develop', 'did', 'discret', 'do', 'dog', 'doin', 'down', 'dream', 'drink', 'drum', 'eas', 'eat', 'elon', 'enough', 'everyth', 'excit', 'expens', 'eye', 'face', 'famili', 'fanci', 'favor', 'favorit', 'feel', 'fenc', 'fine', 'first', 'fish', 'food', 'for', 'friend', 'fsh', 'funni', 'futur', 'game', 'gener', 'get', 'glass', 'go', 'go-to', 'god', 'goin', 'gon', 'good', 'goodby', 'got', 'gracia', 'graduat', 'grate', 'great', 'ha', 'hack', 'hacker', 'had', 'hair', 'hand', 'handsom', 'happi', 'hate', 'have', 'head', 'heart', 'hello', 'help', 'hey', 'hi', 'high', 'histori', 'homework', 'honey', 'hope', 'hot', 'how', 'howdi', 'hungri', 'hurt', 'i', 'i.p', 'if', 'in', 'instead', 'intellig', 'into', 'is', 'it', 'job', 'just', 'kind', 'kiss', 'know', 'laddi', 'late', 'later', 'lawsuit', 'lawyer', 'lazi', 'learn', 'leg', 'let', 'lie', 'life', 'like', 'live', 'lol', 'lone', 'long', 'look', 'lost', 'love', 'made', 'major', 'make', 'math', 'mathemat', 'me', 'meal', 'meet', 'midterm', 'mind', 'money', 'more', 'morn', 'move', 'much', 'musk', 'must', 'my', \"n't\", 'na', 'name', 'nap', 'narcissist', 'need', 'nervou', 'never', 'new', 'news', 'next', 'nice', 'nicknam', 'night', 'nighti', 'no', 'not', 'oblig', 'of', 'okay', 'on', 'one', 'onli', 'or', 'organ', 'other', 'outdoor', 'over', 'owo', 'p', 'part', 'pass', 'peopl', 'person', 'pet', 'plan', 'play', 'pleassur', 'prefer', 'pretti', 'problem', 'programm', 'promot', 'rain', 'real', 'realli', 'religi', 'religion', 'rest', 'rich', 'rise', 'road', 'romant', 'run', 'sad', 'saeyoung', 'sand', 'save', 'say', 'sayoung', 'sea', 'secular', 'see', 'sens', 'shake', 'shine', 'should', 'side', 'skip', 'sleep', 'sleepi', 'smart', 'smile', 'snack', 'so', 'someth', 'spend', 'spiriti', 'spiritu', 'stand', 'steal', 'style', 'succeed', 'suck', 'sun', 'sweet', 'take', 'talk', 'tell', 'terribl', 'thank', 'the', 'there', 'thi', 'thing', 'think', 'thought', 'tight', 'time', 'tire', 'to', 'today', 'too', 'top', 'ttyl', 'two', 'ugli', 'understand', 'unhappi', 'up', 'usual', 'uwu', 'wa', 'want', 'we', 'wear', 'weed', 'weird', 'well', 'wet', 'what', 'whatcha', 'whee', 'when', 'where', 'whi', 'who', 'whom', 'wig', 'will', 'with', 'without', 'wonder', 'work', 'worri', 'worst', 'would', 'wreck', 'wyd', 'ya', 'yard', 'yay', 'yo', 'you', 'your', 'yourself']\n"
     ]
    }
   ],
   "source": [
    "print(len(xy), \"patterns\")\n",
    "print(len(tags), \"tags:\", tags)\n",
    "print(len(all_words), \"unique stemmed words:\", all_words)"
   ]
  },
  {
   "cell_type": "code",
   "execution_count": 9,
   "metadata": {},
   "outputs": [],
   "source": [
    "# create training data\n",
    "X_train = []\n",
    "y_train = []\n",
    "for (pattern_sentence, tag) in xy:\n",
    "    # X: bag of words for each pattern_sentence\n",
    "    bag = bag_of_words(pattern_sentence, all_words)\n",
    "    X_train.append(bag)\n",
    "    # y: PyTorch CrossEntropyLoss needs only class labels, not one-hot\n",
    "    label = tags.index(tag)\n",
    "    y_train.append(label)"
   ]
  },
  {
   "cell_type": "code",
   "execution_count": 10,
   "metadata": {},
   "outputs": [
    {
     "name": "stdout",
     "output_type": "stream",
     "text": [
      "[[0. 0. 0. ... 0. 0. 0.]\n",
      " [0. 0. 0. ... 0. 0. 0.]\n",
      " [0. 0. 0. ... 1. 0. 0.]\n",
      " ...\n",
      " [0. 0. 0. ... 0. 0. 0.]\n",
      " [0. 0. 0. ... 1. 0. 0.]\n",
      " [0. 0. 0. ... 1. 0. 0.]]\n",
      "[13 13 13 13 13 13 13 13 13 13  0  0  0  0  0  0  0  0  0  0  0  0  0  0\n",
      "  0  0  0  0  2  2  2  2  2  2  2  2  2  2  2 19 19 19 19 19 19 19 19 19\n",
      " 19 19 19 19 19  1  1  1  1  1  1  1 11 11 11 11 11 11 11 11 11 11 23 23\n",
      " 23 23 23 23 23 23 23 23 23 23 23 24 24 24 24 24 24 24 24 24 24 24 24 15\n",
      " 15 15 15 15 15 15 15 15 15 15  5  5  5  5  5  5  5  5  5  5  5  5  5 17\n",
      " 17 17 17 17 17 17 17 17 17 17 17 17 28 28 28 28 28 28 28 28 28 28 28 28\n",
      " 28 25 25 25 25 25 25 25 25 25 25 25 25 25 25 25  8  8  8  8  8  8  8  8\n",
      "  8  8 21 21 21 21 21 21 21 21 21 21 21 21 18 18 18 18 18 18 18 18 18 18\n",
      "  3  3  3  3  3  3  3  3  3  3 20 20 20 20 20 20 20 20 20 20 26 26 26 26\n",
      " 26 26 26 26 26 26  6  6  6  6  6  6  6  6  6  6  6  6 12 12 12 12 12 12\n",
      " 12 12 12 12  9  9  9  9  9  9  9  9  9  9 27 27 27 27 27 27 27 27 27 27\n",
      " 27 27 14 14 14 14 14 14 14 14 14 14  4  4  4  4  4  4  4  4  4  4 10 10\n",
      " 10 10 10 10 10 10 10 22 22 22 22 22 22 22 22 22 22 22 16 16 16 16 16 16\n",
      " 16 16 16 16 16  7  7  7  7  7  7  7  7  7  7  7  7  7  7  7  7]\n"
     ]
    }
   ],
   "source": [
    "X_train = np.array(X_train)\n",
    "y_train = np.array(y_train)\n",
    "print(X_train)\n",
    "print(y_train)"
   ]
  },
  {
   "cell_type": "code",
   "execution_count": 11,
   "metadata": {},
   "outputs": [],
   "source": [
    "class NeuralNet(nn.Module):\n",
    "    def __init__(self, input_size, hidden_size, num_classes):\n",
    "        super(NeuralNet, self).__init__()\n",
    "        self.l1 = nn.Linear(input_size, hidden_size)\n",
    "        self.l2 = nn.Linear(hidden_size, hidden_size)\n",
    "        self.l3 = nn.Linear(hidden_size, num_classes)\n",
    "        self.relu = nn.ReLU()\n",
    "\n",
    "    def forward(self, x):\n",
    "        out = self.l1(x)\n",
    "        out = self.relu(out)\n",
    "        out = self.l2(out)\n",
    "        out = self.relu(out)\n",
    "        out = self.l3(out)\n",
    "        # no activation and no softmax at the end\n",
    "        return out"
   ]
  },
  {
   "cell_type": "code",
   "execution_count": 12,
   "metadata": {},
   "outputs": [],
   "source": [
    "class ChatDataset(Dataset):\n",
    "    def __init__(self):\n",
    "        self.n_samples = len(X_train)\n",
    "        self.x_data = X_train\n",
    "        self.y_data = y_train\n",
    "\n",
    "    # support indexing such that dataset[i] can be used to get i-th sample\n",
    "    def __getitem__(self, index):\n",
    "        return self.x_data[index], self.y_data[index]\n",
    "\n",
    "    # we can call len(dataset) to return the size\n",
    "    def __len__(self):\n",
    "        return self.n_samples"
   ]
  },
  {
   "cell_type": "code",
   "execution_count": 13,
   "metadata": {},
   "outputs": [],
   "source": [
    "# Hyper-parameters\n",
    "num_epochs = 2000\n",
    "batch_size = 8\n",
    "learning_rate = 0.0001\n",
    "input_size = len(X_train[0])\n",
    "hidden_size = 8\n",
    "output_size = len(tags)"
   ]
  },
  {
   "cell_type": "code",
   "execution_count": 14,
   "metadata": {},
   "outputs": [],
   "source": [
    "dataset = ChatDataset()\n",
    "train_loader = DataLoader(\n",
    "    dataset=dataset, batch_size=batch_size, shuffle=True, num_workers=0\n",
    ")"
   ]
  },
  {
   "cell_type": "code",
   "execution_count": 15,
   "metadata": {},
   "outputs": [],
   "source": [
    "device = torch.device(\"cuda\" if torch.cuda.is_available() else \"cpu\")"
   ]
  },
  {
   "cell_type": "code",
   "execution_count": 16,
   "metadata": {},
   "outputs": [],
   "source": [
    "model = NeuralNet(input_size, hidden_size, output_size).to(device)"
   ]
  },
  {
   "cell_type": "code",
   "execution_count": 17,
   "metadata": {},
   "outputs": [],
   "source": [
    "# Loss and optimizer\n",
    "criterion = nn.CrossEntropyLoss()\n",
    "optimizer = torch.optim.Adam(model.parameters(), lr=learning_rate)\n"
   ]
  },
  {
   "cell_type": "code",
   "execution_count": 18,
   "metadata": {
    "scrolled": true
   },
   "outputs": [
    {
     "name": "stdout",
     "output_type": "stream",
     "text": [
      "Epoch [100/2000], Loss: 3.0971\n",
      "Epoch [200/2000], Loss: 2.5975\n",
      "Epoch [300/2000], Loss: 1.7940\n",
      "Epoch [400/2000], Loss: 1.8341\n",
      "Epoch [500/2000], Loss: 1.0649\n",
      "Epoch [600/2000], Loss: 0.9052\n",
      "Epoch [700/2000], Loss: 0.4593\n",
      "Epoch [800/2000], Loss: 0.6424\n",
      "Epoch [900/2000], Loss: 0.0904\n",
      "Epoch [1000/2000], Loss: 0.1624\n",
      "Epoch [1100/2000], Loss: 0.0643\n",
      "Epoch [1200/2000], Loss: 0.0833\n",
      "Epoch [1300/2000], Loss: 0.0452\n",
      "Epoch [1400/2000], Loss: 0.0154\n",
      "Epoch [1500/2000], Loss: 0.0049\n",
      "Epoch [1600/2000], Loss: 0.0131\n",
      "Epoch [1700/2000], Loss: 0.0036\n",
      "Epoch [1800/2000], Loss: 0.0037\n",
      "Epoch [1900/2000], Loss: 0.0039\n",
      "Epoch [2000/2000], Loss: 0.0036\n"
     ]
    }
   ],
   "source": [
    "# Train the model\n",
    "for epoch in range(num_epochs):\n",
    "    for (words, labels) in train_loader:\n",
    "        words = words.to(device)\n",
    "        labels = labels.to(dtype=torch.long).to(device)\n",
    "\n",
    "        # Forward pass\n",
    "        outputs = model(words)\n",
    "        # if y would be one-hot, we must apply\n",
    "        # labels = torch.max(labels, 1)[1]\n",
    "        loss = criterion(outputs, labels)\n",
    "\n",
    "        # Backward and optimize\n",
    "        optimizer.zero_grad()\n",
    "        loss.backward()\n",
    "        optimizer.step()\n",
    "\n",
    "    if (epoch + 1) % 100 == 0:\n",
    "        print(f\"Epoch [{epoch+1}/{num_epochs}], Loss: {loss.item():.4f}\")"
   ]
  },
  {
   "cell_type": "code",
   "execution_count": 19,
   "metadata": {},
   "outputs": [],
   "source": [
    "data = {\n",
    "    \"model_state\": model.state_dict(),\n",
    "    \"input_size\": input_size,\n",
    "    \"hidden_size\": hidden_size,\n",
    "    \"output_size\": output_size,\n",
    "    \"all_words\": all_words,\n",
    "    \"tags\": tags,\n",
    "}"
   ]
  },
  {
   "cell_type": "code",
   "execution_count": 20,
   "metadata": {},
   "outputs": [],
   "source": [
    "FILE = \"data.pth\"\n",
    "torch.save(data, FILE)"
   ]
  },
  {
   "cell_type": "code",
   "execution_count": 21,
   "metadata": {},
   "outputs": [],
   "source": [
    "device = torch.device(\"cuda\" if torch.cuda.is_available() else \"cpu\")"
   ]
  },
  {
   "cell_type": "code",
   "execution_count": 22,
   "metadata": {},
   "outputs": [],
   "source": [
    "with open(\"707.json\", \"r\") as json_data:\n",
    "    intents = json.load(json_data)"
   ]
  },
  {
   "cell_type": "code",
   "execution_count": 23,
   "metadata": {},
   "outputs": [],
   "source": [
    "FILE = \"data.pth\"\n",
    "data = torch.load(FILE)"
   ]
  },
  {
   "cell_type": "code",
   "execution_count": 24,
   "metadata": {},
   "outputs": [],
   "source": [
    "input_size = data[\"input_size\"]\n",
    "hidden_size = data[\"hidden_size\"]\n",
    "output_size = data[\"output_size\"]\n",
    "all_words = data[\"all_words\"]\n",
    "tags = data[\"tags\"]\n",
    "model_state = data[\"model_state\"]"
   ]
  },
  {
   "cell_type": "code",
   "execution_count": 25,
   "metadata": {
    "scrolled": false
   },
   "outputs": [
    {
     "data": {
      "text/plain": [
       "NeuralNet(\n",
       "  (l1): Linear(in_features=381, out_features=8, bias=True)\n",
       "  (l2): Linear(in_features=8, out_features=8, bias=True)\n",
       "  (l3): Linear(in_features=8, out_features=29, bias=True)\n",
       "  (relu): ReLU()\n",
       ")"
      ]
     },
     "execution_count": 25,
     "metadata": {},
     "output_type": "execute_result"
    }
   ],
   "source": [
    "model = NeuralNet(input_size, hidden_size, output_size).to(device)\n",
    "model.load_state_dict(model_state)\n",
    "model.eval()"
   ]
  },
  {
   "cell_type": "code",
   "execution_count": 26,
   "metadata": {},
   "outputs": [],
   "source": [
    "bot_name = \"707\""
   ]
  },
  {
   "cell_type": "code",
   "execution_count": 27,
   "metadata": {
    "scrolled": false
   },
   "outputs": [],
   "source": [
    "confused = [\"Hmm…\", \"Hmmmm~.\", \"Hmm..\",\"Hmm lol\",\"Hmm~.\",\"Hmm.\",\"Hmm;\",\"Hmm;;\",\"Hmm, hmm~\",\"Hmm hmm hmm~\",\n",
    "            \"…?\",\"…\", \"…!\",\"!?\", \"Hmm…!\",\"Uhm…\",\"Uhm.\",\"Uhm, uh…..\",\"Uhm···\",\"Oh?\",\"Oh!\",\"Oh…\", \"Oh.\", \n",
    "            \"Oh….\",\"Oh lololol\",\"Oh….lolol\",\"Oh!!!\",\"…Oh.\",\"Oh…!\", \"Oh ho~\", \"Huh?\",\"Huh…?\",\n",
    "            \"W…\",\"What?\", \"Ahem~!\",\"Ahem lol\",\"Ahem!\",\"Ahem >.<\",\"I don’t really understand what this means.\"]"
   ]
  },
  {
   "cell_type": "code",
   "execution_count": 28,
   "metadata": {},
   "outputs": [],
   "source": [
    "def get_response(msg):\n",
    "    sentence = tokenize(msg)\n",
    "    X = bag_of_words(sentence, all_words)\n",
    "    X = X.reshape(1, X.shape[0])\n",
    "    X = torch.from_numpy(X).to(device)\n",
    "\n",
    "    output = model(X)\n",
    "    _, predicted = torch.max(output, dim=1)\n",
    "\n",
    "    tag = tags[predicted.item()]\n",
    "\n",
    "    probs = torch.softmax(output, dim=1)\n",
    "    prob = probs[0][predicted.item()]\n",
    "    if prob.item() > 0.75:\n",
    "        for intent in intents[\"intents\"]:\n",
    "            if tag == intent[\"tag\"]:\n",
    "                return random.choice(intent[\"responses\"])\n",
    "    return random.choice(confused)"
   ]
  },
  {
   "cell_type": "code",
   "execution_count": 29,
   "metadata": {},
   "outputs": [],
   "source": [
    "BG_RED = \"#EEC630\"\n",
    "BG_COLOR = \"#AD3B20\"\n",
    "TEXT_COLOR = \"#EAECEE\"\n",
    "\n",
    "FONT = \"Helvetica 14\"\n",
    "FONT_BOLD = \"Helvetica 13 bold\""
   ]
  },
  {
   "cell_type": "code",
   "execution_count": 30,
   "metadata": {},
   "outputs": [
    {
     "name": "stdout",
     "output_type": "stream",
     "text": [
      "What's your name: Ari\n"
     ]
    }
   ],
   "source": [
    "your_name = input(\"What's your name: \")"
   ]
  },
  {
   "cell_type": "code",
   "execution_count": null,
   "metadata": {
    "scrolled": false
   },
   "outputs": [],
   "source": [
    "class ChatApplication:\n",
    "    def __init__(self):\n",
    "        self.window = Tk()\n",
    "        self._setup_main_window()\n",
    "\n",
    "    def run(self):\n",
    "        self.window.mainloop()\n",
    "\n",
    "    def _setup_main_window(self):\n",
    "        self.window.title(\"Chat\")\n",
    "        self.window.resizable(width=False, height=False)\n",
    "        self.window.configure(width=470, height=550, bg=BG_COLOR)\n",
    "\n",
    "        # head label\n",
    "        head_label = Label(\n",
    "            self.window,\n",
    "            bg=BG_COLOR,\n",
    "            fg=TEXT_COLOR,\n",
    "            text=\"Welcome\",\n",
    "            font=FONT_BOLD,\n",
    "            pady=10,\n",
    "        )\n",
    "        head_label.place(relwidth=1)\n",
    "\n",
    "        # tiny divider\n",
    "        line = Label(self.window, width=450, bg=BG_RED)\n",
    "        line.place(relwidth=1, rely=0.07, relheight=0.012)\n",
    "\n",
    "        # text widget\n",
    "        self.text_widget = Text(\n",
    "            self.window,\n",
    "            width=20,\n",
    "            height=2,\n",
    "            bg=BG_COLOR,\n",
    "            fg=TEXT_COLOR,\n",
    "            font=FONT,\n",
    "            padx=5,\n",
    "            pady=5,\n",
    "        )\n",
    "        self.text_widget.place(relheight=0.745, relwidth=1, rely=0.08)\n",
    "        self.text_widget.configure(cursor=\"arrow\", state=DISABLED)\n",
    "\n",
    "        # scroll bar\n",
    "        scrollbar = Scrollbar(self.text_widget)\n",
    "        scrollbar.place(relheight=1, relx=0.974)\n",
    "        scrollbar.configure(command=self.text_widget.yview)\n",
    "\n",
    "        # bottom label\n",
    "        bottom_label = Label(self.window, bg=BG_RED, height=80)\n",
    "        bottom_label.place(relwidth=1, rely=0.825)\n",
    "\n",
    "        # message entry box\n",
    "        self.msg_entry = Entry(bottom_label, bg=BG_COLOR, fg=TEXT_COLOR, font=FONT)\n",
    "        self.msg_entry.place(relwidth=0.74, relheight=0.06, rely=0.008, relx=0.011)\n",
    "        self.msg_entry.focus()\n",
    "        self.msg_entry.bind(\"<Return>\", self._on_enter_pressed)\n",
    "\n",
    "        # send button\n",
    "        send_button = Button(\n",
    "            bottom_label,\n",
    "            text=\"Send\",\n",
    "            font=FONT_BOLD,\n",
    "            width=20,\n",
    "            bg=BG_RED,\n",
    "            command=lambda: self._on_enter_pressed(None),\n",
    "        )\n",
    "        send_button.place(relx=0.77, rely=0.008, relheight=0.06, relwidth=0.22)\n",
    "\n",
    "    def _on_enter_pressed(self, event):\n",
    "        msg = self.msg_entry.get()\n",
    "        self._insert_message(msg, your_name)\n",
    "\n",
    "    def _insert_message(self, msg, sender):\n",
    "        if not msg:\n",
    "            return\n",
    "\n",
    "        self.msg_entry.delete(0, END)\n",
    "        msg1 = f\"{sender}: {msg}\\n\\n\"\n",
    "        self.text_widget.configure(state=NORMAL)\n",
    "        self.text_widget.insert(END, msg1)\n",
    "        self.text_widget.configure(state=DISABLED)\n",
    "\n",
    "        msg2 = f\"{bot_name}: {get_response(msg)}\\n\\n\"\n",
    "        self.text_widget.configure(state=NORMAL)\n",
    "        self.text_widget.insert(END, msg2)\n",
    "        self.text_widget.configure(state=DISABLED)\n",
    "\n",
    "        self.text_widget.see(END)\n",
    "\n",
    "\n",
    "if __name__ == \"__main__\":\n",
    "    app = ChatApplication()\n",
    "    app.run()"
   ]
  },
  {
   "cell_type": "code",
   "execution_count": null,
   "metadata": {},
   "outputs": [],
   "source": []
  },
  {
   "cell_type": "code",
   "execution_count": null,
   "metadata": {},
   "outputs": [],
   "source": []
  }
 ],
 "metadata": {
  "kernelspec": {
   "display_name": "Python 3 (ipykernel)",
   "language": "python",
   "name": "python3"
  },
  "language_info": {
   "codemirror_mode": {
    "name": "ipython",
    "version": 3
   },
   "file_extension": ".py",
   "mimetype": "text/x-python",
   "name": "python",
   "nbconvert_exporter": "python",
   "pygments_lexer": "ipython3",
   "version": "3.9.13"
  }
 },
 "nbformat": 4,
 "nbformat_minor": 2
}
